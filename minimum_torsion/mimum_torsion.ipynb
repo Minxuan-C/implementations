{
 "cells": [
  {
   "cell_type": "code",
   "execution_count": 105,
   "id": "2ac7047a",
   "metadata": {},
   "outputs": [],
   "source": [
    "import numpy as np\n",
    "import pandas as pd"
   ]
  },
  {
   "cell_type": "code",
   "execution_count": 106,
   "id": "a0f9846a",
   "metadata": {},
   "outputs": [],
   "source": [
    "# data cleaning\n",
    "data = pd.read_csv(\"./return_data.csv\")\n",
    "data[\"index\"] = pd.to_datetime(data[\"index\"], format=\"%Y-%m-%d\")\n",
    "data = data.set_index(\"index\")"
   ]
  },
  {
   "cell_type": "code",
   "execution_count": 107,
   "id": "ed883b88",
   "metadata": {},
   "outputs": [
    {
     "name": "stdout",
     "output_type": "stream",
     "text": [
      "False\n"
     ]
    }
   ],
   "source": [
    "# extract correlation matrix\n",
    "sigma = data.cov()\n",
    "cor = data.corr()\n",
    "std = np.zeros((data.shape[1],data.shape[1]))\n",
    "np.fill_diagonal(std, data.std())\n",
    "\n",
    "# check\n",
    "print(np.any((sigma.values - (std.T @ cor @ std).values) > 1e-6))"
   ]
  },
  {
   "cell_type": "code",
   "execution_count": 108,
   "id": "77dcbfc8",
   "metadata": {},
   "outputs": [
    {
     "name": "stdout",
     "output_type": "stream",
     "text": [
      "False\n"
     ]
    }
   ],
   "source": [
    "# eigen decomposition\n",
    "eg_val, eg_vec = np.linalg.eig(cor)\n",
    "value = np.zeros((data.shape[1],data.shape[1]))\n",
    "np.fill_diagonal(value, np.sqrt(eg_val))\n",
    "result = eg_vec @ np.multiply(value, value) @ eg_vec.T\n",
    "\n",
    "# check\n",
    "print(np.any((result - cor.values) > 1e-6))\n",
    "\n",
    "c = eg_vec @ value @ eg_vec.T"
   ]
  },
  {
   "cell_type": "code",
   "execution_count": 109,
   "id": "728618e3",
   "metadata": {},
   "outputs": [],
   "source": [
    "# recursive algorithm\n",
    "def mt(c, threshold, loop_num:int):\n",
    "    d = np.eye(c.shape[1])\n",
    "    pie = 0\n",
    "    for i in range(loop_num):\n",
    "        u = (d @ (c*c) @ d)**0.5\n",
    "        inv_u = np.linalg.inv(u)\n",
    "        if np.isnan(inv_u).sum() > 0:\n",
    "            break\n",
    "        q = inv_u.T @ d @ c\n",
    "        qc = np.zeros((c.shape[0], c.shape[1]))\n",
    "        np.fill_diagonal(qc, np.diag(q.T @ c))\n",
    "        d = qc\n",
    "        if np.all((d @ q - pie) < threshold):\n",
    "            break\n",
    "        else:\n",
    "            pie = d @ q\n",
    "    return pie"
   ]
  },
  {
   "cell_type": "code",
   "execution_count": 110,
   "id": "1212c2af",
   "metadata": {},
   "outputs": [
    {
     "data": {
      "text/plain": [
       "0.0007428807319840459"
      ]
     },
     "execution_count": 110,
     "metadata": {},
     "output_type": "execute_result"
    }
   ],
   "source": [
    "# check\n",
    "C_test = np.array([[1, 0.5, 0.3], [0.5, 1, 0.1], [0.3, 0.1, 1]])\n",
    "eg_val_test, eg_vec_test = np.linalg.eig(C_test)\n",
    "value_test = np.zeros((C_test.shape[1],C_test.shape[1]))\n",
    "np.fill_diagonal(value_test, np.sqrt(eg_val_test))\n",
    "\n",
    "c_test = eg_vec_test @ value_test @ eg_vec_test.T\n",
    "\n",
    "result_test = mt(c_test, 1e-6, int(1e9))\n",
    "expected_test = np.array([\n",
    "        [0.9535, -0.0016, -0.0026],\n",
    "        [0.0017, 0.9661, -0.0001],\n",
    "        [0.0027, 0.0001, 0.9886]])\n",
    "\n",
    "np.linalg.norm(result_test - expected_test, 'fro')"
   ]
  },
  {
   "cell_type": "code",
   "execution_count": 116,
   "id": "e4d74ed9",
   "metadata": {},
   "outputs": [
    {
     "data": {
      "text/plain": [
       "16.025571266200274"
      ]
     },
     "execution_count": 116,
     "metadata": {},
     "output_type": "execute_result"
    }
   ],
   "source": [
    "pie_data = mt(c, 1e-6, int(1e9))\n",
    "t_data = np.diag(std) @ pie_data @ np.linalg.inv(c) @ (np.diag(std))**-1\n",
    "t_data"
   ]
  },
  {
   "cell_type": "code",
   "execution_count": null,
   "id": "56c46ecb",
   "metadata": {},
   "outputs": [],
   "source": []
  }
 ],
 "metadata": {
  "kernelspec": {
   "display_name": "Python 3 (ipykernel)",
   "language": "python",
   "name": "python3"
  },
  "language_info": {
   "codemirror_mode": {
    "name": "ipython",
    "version": 3
   },
   "file_extension": ".py",
   "mimetype": "text/x-python",
   "name": "python",
   "nbconvert_exporter": "python",
   "pygments_lexer": "ipython3",
   "version": "3.11.5"
  }
 },
 "nbformat": 4,
 "nbformat_minor": 5
}
